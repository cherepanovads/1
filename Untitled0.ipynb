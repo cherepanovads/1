{
  "nbformat": 4,
  "nbformat_minor": 0,
  "metadata": {
    "colab": {
      "provenance": [],
      "authorship_tag": "ABX9TyOWpZZdeJv6qze6riyTCiYO",
      "include_colab_link": true
    },
    "kernelspec": {
      "name": "python3",
      "display_name": "Python 3"
    },
    "language_info": {
      "name": "python"
    }
  },
  "cells": [
    {
      "cell_type": "markdown",
      "metadata": {
        "id": "view-in-github",
        "colab_type": "text"
      },
      "source": [
        "<a href=\"https://colab.research.google.com/github/cherepanovads/1/blob/main/Untitled0.ipynb\" target=\"_parent\"><img src=\"https://colab.research.google.com/assets/colab-badge.svg\" alt=\"Open In Colab\"/></a>"
      ]
    },
    {
      "cell_type": "code",
      "execution_count": 45,
      "metadata": {
        "id": "5iUBoPvltmMJ",
        "colab": {
          "base_uri": "https://localhost:8080/"
        },
        "outputId": "6c0e5c78-1e3c-4a5f-e921-107d73f56601"
      },
      "outputs": [
        {
          "output_type": "stream",
          "name": "stdout",
          "text": [
            "   whoAmI\n",
            "0   robot\n",
            "1   human\n",
            "2   robot\n",
            "3   human\n",
            "4   robot\n",
            "5   robot\n",
            "6   robot\n",
            "7   human\n",
            "8   human\n",
            "9   human\n",
            "10  robot\n",
            "11  human\n",
            "12  human\n",
            "13  human\n",
            "14  human\n",
            "15  human\n",
            "16  robot\n",
            "17  robot\n",
            "18  robot\n",
            "19  robot\n"
          ]
        }
      ],
      "source": [
        "import pandas as pd\n",
        "import numpy as np\n",
        "import random\n",
        "\n",
        "lst = ['robot'] * 10\n",
        "lst += ['human'] * 10\n",
        "random.shuffle(lst)\n",
        "data = pd.DataFrame({'whoAmI': lst})\n",
        "print(data)\n",
        "\n"
      ]
    },
    {
      "cell_type": "code",
      "source": [
        "data['tmp'] = 1\n",
        "data.set_index([data.index, 'whoAmI'], inplace=True)\n",
        "data = data.unstack(level=-1, fill_value = 0).astype(int)\n",
        "data.columns = data.columns.droplevel()\n",
        "data.columns.name = None\n",
        "print(data)"
      ],
      "metadata": {
        "colab": {
          "base_uri": "https://localhost:8080/"
        },
        "id": "QkJciJo7dL6P",
        "outputId": "447a457d-8e74-462b-c763-d12bf2db239f"
      },
      "execution_count": 46,
      "outputs": [
        {
          "output_type": "stream",
          "name": "stdout",
          "text": [
            "    human  robot\n",
            "0       0      1\n",
            "1       1      0\n",
            "2       0      1\n",
            "3       1      0\n",
            "4       0      1\n",
            "5       0      1\n",
            "6       0      1\n",
            "7       1      0\n",
            "8       1      0\n",
            "9       1      0\n",
            "10      0      1\n",
            "11      1      0\n",
            "12      1      0\n",
            "13      1      0\n",
            "14      1      0\n",
            "15      1      0\n",
            "16      0      1\n",
            "17      0      1\n",
            "18      0      1\n",
            "19      0      1\n"
          ]
        }
      ]
    }
  ]
}